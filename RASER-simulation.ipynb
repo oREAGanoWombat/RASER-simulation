{
 "nbformat": 4,
 "nbformat_minor": 0,
 "metadata": {
  "colab": {
   "provenance": []
  },
  "kernelspec": {
   "name": "python3",
   "display_name": "Python 3"
  },
  "language_info": {
   "name": "python"
  }
 },
 "cells": [
  {
   "cell_type": "markdown",
   "source": [
    "# RASER MRI Sim 5\n",
    "> **Code Author**: Alon Greenbaum \\\n",
    "> **Last Edit**: 18 July 2025 \\\n",
    "> **Last Edited by**: Reagan McNeill Womack \\\n",
    "\n",
    "Code based on dynamics and theory outlined in [DOI: 10.1126/sciadv.abp8483](https://doi.org/10.1126/sciadv.abp8483)\n",
    "\n",
    "*Google Gemini generative AI was used in the development of this notebook.*"
   ],
   "metadata": {
    "id": "dyJbpfHf7uhl"
   }
  },
  {
   "cell_type": "markdown",
   "source": [
    "## Requirements"
   ],
   "metadata": {
    "id": "THexnBIZ4Y1E"
   }
  },
  {
   "cell_type": "code",
   "metadata": {
    "id": "59NiYjJK1yzD",
    "ExecuteTime": {
     "end_time": "2025-07-22T19:00:54.652338Z",
     "start_time": "2025-07-22T19:00:53.904553Z"
    }
   },
   "source": [
    "import numpy as np\n",
    "import matplotlib.pyplot as plt\n",
    "from scipy.integrate import solve_ivp\n",
    "from scipy.ndimage import rotate\n",
    "from pathlib import Path\n",
    "import os\n",
    "from datetime import datetime\n",
    "import random\n",
    "from skimage.transform import radon, iradon\n",
    "from skimage.io import imsave"
   ],
   "outputs": [],
   "execution_count": 3
  },
  {
   "cell_type": "markdown",
   "source": [
    "## Results Directory\n",
    "If directory does not exist, a new directory is made at location defined with `path`."
   ],
   "metadata": {
    "id": "5TYdXius5EX2"
   }
  },
  {
   "cell_type": "code",
   "source": [
    "def makedirs(path):\n",
    "  if not os.path.exists(path):\n",
    "    os.makedirs(path)"
   ],
   "metadata": {
    "id": "DqJfHtkr5Lv8",
    "ExecuteTime": {
     "end_time": "2025-07-22T19:00:54.663440Z",
     "start_time": "2025-07-22T19:00:54.661127Z"
    }
   },
   "outputs": [],
   "execution_count": 4
  },
  {
   "cell_type": "markdown",
   "source": [
    "## Sample Inversion Map\n",
    "Create a sample 2D inversion map with a square shape for demonstration.\n",
    "\n",
    "### Parameters\n",
    "- `shape` (tuple of `int`, default: `(10,10)`: defines size of map, includes 2 variables (1 for each direction); represents the initial distribution of population inversion in a 2D space\n",
    "\n",
    "### Returns\n",
    "- A 2D NumPy array with dimensions specified by `shape`, a simplified population inversion map"
   ],
   "metadata": {
    "id": "CRqs7-i05Vai"
   }
  },
  {
   "cell_type": "code",
   "source": [
    "def create_sample_inversion_map(shape=(10,10)):\n",
    "  square_size = (shape[0] // 2, shape[1] // 2) # set size of square using parameter\n",
    "  inversion_map = np.full(square_size, 1)\n",
    "  inversion_map = np.pad(inversion_map, ((shape[0] // 4, shape[0] // 4), (shape[1] // 4, shape[1] // 4)), mode=\"constant\", constant_values=0)\n",
    "  return inversion_map"
   ],
   "metadata": {
    "colab": {
     "base_uri": "https://localhost:8080/"
    },
    "id": "51FDAKjk5U7d",
    "outputId": "b6831150-84dc-429b-abee-a5ed651d1c20",
    "ExecuteTime": {
     "end_time": "2025-07-22T19:00:54.673589Z",
     "start_time": "2025-07-22T19:00:54.671280Z"
    }
   },
   "outputs": [],
   "execution_count": 5
  },
  {
   "metadata": {},
   "cell_type": "markdown",
   "source": [
    "### Create 1D Inversion Map\n",
    "For testing purposes ONLY \\\n",
    "Flattens 2D sample inversion map from above"
   ]
  },
  {
   "metadata": {
    "ExecuteTime": {
     "end_time": "2025-07-22T19:07:00.928958Z",
     "start_time": "2025-07-22T19:07:00.922648Z"
    }
   },
   "cell_type": "code",
   "source": [
    "def create_sample_inversion_map_flattened(shape=(10,10), angle=0, d0_total_val=25e16):\n",
    "    sample_2d_map = create_sample_inversion_map(shape=shape) # create 2D map\n",
    "\n",
    "    # get a 1D projection from 2D map at angle theta (default 0 deg)\n",
    "    single_projection_1d = radon(sample_2d_map, theta=[angle], circle=True).flatten()\n",
    "\n",
    "    # normalize (optional)\n",
    "    if np.sum(single_projection_1d) > 0:\n",
    "        single_projection_1d = single_projection_1d / np.sum(single_projection_1d)\n",
    "\n",
    "    # scale by total population inversion (if applicable)\n",
    "    scaled_single_projection = (d0_total_val * single_projection_1d)\n",
    "\n",
    "    \"\"\"\n",
    "    # plot 1D inversion map\n",
    "    plt.figure(figsize=(10,10))\n",
    "    plt.plot(scaled_single_projection)\n",
    "    plt.title(f'1D Projection from 2D Map (Angle = {angle} degrees)')\n",
    "    plt.xlabel('Detector Element / Mode Index')\n",
    "    plt.ylabel('Normalized Projection Value')\n",
    "    plt.grid(True)\n",
    "    plt.show()\n",
    "    \"\"\"\n",
    "\n",
    "    return scaled_single_projection"
   ],
   "outputs": [],
   "execution_count": 13
  },
  {
   "cell_type": "markdown",
   "source": [
    "## Simulate RASER Dynamics\n",
    "Core simulation function \\\n",
    "It models the time evolution of multiple interacting RASER (Radio-frequency Amplification by Stimulated Emission of Radiation) modes based on a set of coupled non-linear ordinary differential equations (ODEs), as described in the supplementary material (equations S5-S9). It takes an initial 1D population inversion profile and simulates how the population inversion, mode amplitudes, and phases change over time, ultimately calculating the total measurable output signal."
   ],
   "metadata": {
    "id": "qhuKa3AV7Os8"
   }
  },
  {
   "metadata": {},
   "cell_type": "markdown",
   "source": [
    "### Parameters\n",
    "- `initial_population_inversion` (numpy.ndarray): a 1D NumPy array representing the initial population inversion $d_{\\mu}(0)$ for each RASER mode/slice; this array is typically a 1D projection obtained from the 2D image\n",
    "- `T1` (float, default: 5.0): the longitudinal relaxation time $T_1$ in seconds; this parameter governs how quickly the population inversion recovers to its equilibrium state (or decays if no pumping is present)\n",
    "- `T2` (float, default: 0.7): the effective transverse relation time $T_2^*$ in seconds; this parameter describes the decay of the transverse magnetization (and thus the amplitude for each mode)\n",
    "- `coupling_beta` (float, default: 1.0): the coupling parameter $\\beta$ that dictates the strength of the interaction between the RASER modes and the overall gain; it's derived from physical constant and resonator properties\n",
    "- `center_freq_hz` (float, default: 50.0): the center frequency $\\nu_0$ of the RASER resonator in Hertz; this is the central frequency around which the individual RASER modes are distributed\n",
    "- `gain_bandwidth_hz` (float, default: 10.0): the total bandwidth $\\Delta$ of the imaging domain in Hertz, which corresponds to the frequency range covered by the magnetic field gradient\n",
    "- `mode_spacing_hz` (float, default: 0.2): the frequency separation $\\delta \\nu$ between adjacent RASER modes in Hertz\n",
    "- `sim_duration` (float, default: 2.0): the total duration of the simulation in seconds\n",
    "- `points_per_sec` (int, default: 2000): the number of data points to generate per second of simulation time for the output signal; this affects the temporal resolution of the `output_signal`\n",
    "\n",
    "### Returns: `dict`\n",
    "A dictionary containing the results of the simulation.\n",
    "- `time` (numpy.ndarray): a 1D array of time points (in seconds) at which the output signal was sampled\n",
    "- `n_modes` (int): the number of RASER modes/slices ($N$) simulated\n",
    "- `initial_inversion` (numpy.ndarray): the 1D array of initial population inversion values for each mode, as provided to the function\n",
    "- `final_inversion` (numpy.ndarray): a 1D array of the population inversion values for each mode at the end of the simulation\n",
    "- `final_amplitude` (numpy.ndarray): a 1D array of the amplitude values ($A_\\mu$) for each mode at the end of the simulation\n",
    "- `output_signal` (numpy.ndarray): a 1D array representing the total simulated RASER signal ($Sig(t)$) (see Eq. S9) over the `sim_duration`"
   ]
  },
  {
   "metadata": {
    "ExecuteTime": {
     "end_time": "2025-07-22T19:00:54.697033Z",
     "start_time": "2025-07-22T19:00:54.690868Z"
    }
   },
   "cell_type": "code",
   "source": [
    "def simulate_raser_dynamics(\n",
    "        initial_population_inversion,\n",
    "        T1=5.0,\n",
    "        T2=0.7,\n",
    "        coupling_beta=1.0,\n",
    "        center_freq_hz=50.0,\n",
    "        gain_bandwidth_hz=10.0,\n",
    "        mode_spacing_hz=0.2,\n",
    "        sim_duration=2.0,\n",
    "        points_per_sec=2000,\n",
    "):\n",
    "    N = len(initial_population_inversion)\n",
    "\n",
    "    # prevent running the simulation on empty projections\n",
    "    if N == 0 or np.all(initial_population_inversion == 0):\n",
    "        print(\"Initial Population Inversion is an empty projection - simulation cancelled\")\n",
    "        return {\n",
    "            'time': np.linspace(0, sim_duration, int(sim_duration * points_per_sec)),\n",
    "            'n_modes': N,\n",
    "            'initial_inversion': initial_population_inversion,\n",
    "            'final_inversion': np.zeros(N),\n",
    "            'final_amplitude': np.zeros(N),\n",
    "            'output_signal': np.zeros(int(sim_duration * points_per_sec)),\n",
    "        }\n",
    "\n",
    "    print(f\"Running multimode RASER simulation with {N} modes...\")\n",
    "    epsilon = 1e-12 # used to prevent division by zero\n",
    "    mu_indices = np.arange(1, N + 1)\n",
    "    natural_freq_hz = center_freq_hz - 0.5 * (gain_bandwidth_hz - mode_spacing_hz * (2 * mu_indices - 1))\n",
    "    omega_natural_rad = 2 * np.pi * natural_freq_hz # first term in Eq. S7\n",
    "\n",
    "    d0 = initial_population_inversion # initial population inversion for each mode\n",
    "    A0 = np.random.uniform(0,1e-4,N) # initial amplitudes for each mode, set to tiny random values\n",
    "    phi0 = np.random.uniform(0,2 * np.pi,N) # initial phases for each mode, set to random values between 0 and 2pi\n",
    "    y0 = np.concatenate([d0,A0,phi0]) # create 1D array from above 3 arrays in format ODE solver expects\n",
    "\n",
    "    def raser_ode_system(t, y):\n",
    "        d = y[0:N]\n",
    "        A = y[N:2 * N]\n",
    "        phi = y[2 * N:3 * N]\n",
    "\n",
    "        X = np.sum(A * np.cos(phi))\n",
    "        Y = np.sum(A * np.sin(phi))\n",
    "        cos_phi = np.cos(phi)\n",
    "        sin_phi = np.sin(phi)\n",
    "        sum_term_1 = (X * cos_phi) + (Y * sin_phi)\n",
    "        sum_term_2 = (Y * cos_phi) - (X * sin_phi)\n",
    "\n",
    "        S5 = -(d/T1)-(4*coupling_beta*d*(sum_term_1 ** 2)) # solves Eq. S5\n",
    "        S6 = -(A/T2) + (coupling_beta * d * sum_term_1) # solves Eq. S6\n",
    "        S7 = omega_natural_rad + (coupling_beta * (d / (A + epsilon))) * sum_term_2 # solves Eq. S7\n",
    "\n",
    "        dydt = np.concatenate([S5, S6, S7]) # concatenates functions into a 1D array matching structure of y\n",
    "        return dydt\n",
    "\n",
    "    t_span = [0, sim_duration] # defines time interval from 0 to sim_duration\n",
    "    \"\"\"\n",
    "    Solve ODEs (ordinary differential equations)\n",
    "    dense_output = True creates a continuous solution object that can be evaluated at arbitrary time points\n",
    "    \"\"\"\n",
    "    # solve ODEs (ordinary differential equations), dense_output=True creates a continuous solution object that can be evaluated at arbitrary time points\n",
    "    sol = solve_ivp(raser_ode_system, t_span, y0, method='RK45', dense_output=True)\n",
    "\n",
    "    \"\"\"\n",
    "    Process Output Signal\n",
    "    \"\"\"\n",
    "    output_t_points = np.linspace(t_span[0], t_span[1], int(sim_duration * points_per_sec)) # array of time points created using sim_duration and points_per_sec\n",
    "    output_signal = np.zeros(len(output_t_points))\n",
    "    final_state_y = sol.sol(output_t_points[-1]) # all d, A, and phi values at last outputTimePoint\n",
    "\n",
    "    for i, t_point in enumerate(output_t_points): # Signal Calculation Loop\n",
    "        current_state_y = sol.sol(t_point) # used to retrieve d, A, and phi at current t_point\n",
    "        A_current = current_state_y[N:2*N] # amplitudes at current_state_y\n",
    "        phi_current = current_state_y[2*N:3*N] # phases at current_state_y\n",
    "        output_signal[i] = (1 / np.sqrt(N)) * np.sum(A_current * np.cos(phi_current)) # total RASER signal calculated from Eq. S9\n",
    "\n",
    "    return {\n",
    "        'time': output_t_points,\n",
    "        'n_modes': N,\n",
    "        'initial_inversion': d0,\n",
    "        'final_inversion': final_state_y[0:N],\n",
    "        'final_amplitude': final_state_y[N:2*N],\n",
    "        'output_signal': output_signal,\n",
    "    }"
   ],
   "outputs": [],
   "execution_count": 7
  },
  {
   "metadata": {},
   "cell_type": "markdown",
   "source": [
    "## Plot Results\n",
    "Visualizes the simulation results from the multimode RASER model"
   ]
  },
  {
   "metadata": {},
   "cell_type": "markdown",
   "source": [
    "### Parameters\n",
    "- `results` (*dict*): A dictionary containing the output from the simulate_raser_dynamics function. It is expected to have the following keys:\n",
    "    - `time` (numpy.ndarray): a 1D array of time points (in seconds) at which the output signal was sampled\n",
    "    - `n_modes` (int): the number of RASER modes/slices ($N$) simulated\n",
    "    - `initial_inversion` (numpy.ndarray): the 1D array of initial population inversion values for each mode, as provided to the function\n",
    "    - `final_inversion` (numpy.ndarray): a 1D array of the population inversion values for each mode at the end of the simulation\n",
    "    - `final_amplitude` (numpy.ndarray): a 1D array of the amplitude values ($A_\\mu$) for each mode at the end of the simulation\n",
    "    - `output_signal` (numpy.ndarray): a 1D array representing the total simulated RASER signal ($Sig(t)$) (see Eq. S9) over the `sim_duration`\n",
    "- `png_path` (*pathlib.Path object*): the full file path (including filename and .png extension) where the generated plot will be saved\n",
    "\n",
    "### Outputs\n",
    "- saves a`.png` image file to the specified `png_path`\n",
    "- displays plot using `plt.show()` and closes plot with `plt.close(fig)` to free up memory"
   ]
  },
  {
   "metadata": {},
   "cell_type": "code",
   "outputs": [],
   "execution_count": null,
   "source": [
    "def plot_results(results, png_path):\n",
    "    time = results['time']\n",
    "    N = results['n_modes']\n",
    "    signal = results['output_signal']\n",
    "    mode_indices = np.arange(1, N + 1) if N > 0 else [] # mu index for plotting\n",
    "\n",
    "    fig, axes = plt.subplots(2, 2, figsize=(14, 11)) # creates a figure with a 2x2 grid for 4 plots\n",
    "    fig.suptitle(\"Multimode RASER Simulation (Single Projection)\", fontsize=16)\n",
    "\n",
    "    # Subplot 1. Population Inversion Profiles (top-left)\n",
    "    ax1 = axes[0, 0] # select top-left subplot\n",
    "    if N > 0: # plot two lines if N > 0\n",
    "        ax1.plot(mode_indices, results['initial_inversion'], 'o-', label=f'$d_\\\\mu(t=0)$')\n",
    "        ax1.plot(mode_indices, results['final_inversion'], 'o-', label=f'$d_\\\\mu(t={time[-1]:.2f}s)$')\n",
    "    ax1.set_title(\"Population Inversion Profiles\")\n",
    "    ax1.set_xlabel(\"Mode Index ($\\\\mu$)\")\n",
    "    ax1.set_ylabel(\"Population Inversion ($d_\\\\mu$)\")\n",
    "    ax1.legend()\n",
    "    ax1.grid(True)\n",
    "\n",
    "    # Subplot 2. Final Mode Amplitudes (top-right)\n",
    "    ax2 = axes[0, 1] # select top-right subplot\n",
    "    if N > 0:\n",
    "        ax2.bar(mode_indices, results['final_amplitude'], width=0.8)\n",
    "    ax2.set_title(f\"Final Mode Amplitudes ($A_\\\\mu$) at t={time[-1]:.2f}s\")\n",
    "    ax2.set_xlabel(\"Mode Index ($\\\\mu$)\")\n",
    "    ax2.set_ylabel(\"Amplitude ($A_\\\\mu$)\")\n",
    "    ax2.grid(True, axis='y')\n",
    "\n",
    "    # Subplot 3. Total Output Signal (bottom-left)\n",
    "    ax3 = axes[1, 0] # select bottom-left subplot\n",
    "    ax3.plot(time, signal)\n",
    "    ax3.set_title(\"Total Output Signal $Sig(t)$ (Eq. S9)\")\n",
    "    ax3.set_xlabel(\"Time (s)\")\n",
    "    ax3.set_ylabel(\"Signal Amplitude (a.u.)\")\n",
    "    ax3.grid(True)\n",
    "\n",
    "    # Subplot 4. Spectrum of Output Signal (bottom-right)\n",
    "    min_freq_hz = 35\n",
    "    max_freq_hz = 65\n",
    "    ax4 = axes[1, 1] # select bottom-right subplot\n",
    "    dt = time[1] - time[0]\n",
    "    signal_fft = np.fft.fft(signal)\n",
    "    freqs = np.fft.fftfreq(len(signal_fft), d=dt)\n",
    "    shifted_freqs = np.fft.fftshift(freqs)\n",
    "    shifted_magnitudes = np.fft.fftshift(np.abs(signal_fft))\n",
    "    freq_mask = (shifted_freqs >= min_freq_hz) & (shifted_freqs <= max_freq_hz)\n",
    "    ax4.plot(shifted_freqs[freq_mask], shifted_magnitudes[freq_mask])\n",
    "    ax4.set_title(\"Spectrum of Output Signal\")\n",
    "    ax4.set_xlabel(\"Frequency (Hz)\")\n",
    "    ax4.set_ylabel(\"Magnitude\")\n",
    "    ax4.grid(True)\n",
    "\n",
    "    # Finalize and save figure\n",
    "    fig.tight_layout(rect=[0, 0.03, 1, 0.95])\n",
    "    plt.savefig(png_path)\n",
    "    plt.show()\n",
    "    print(f\"Saved results as PNG to {png_path}\")\n",
    "    plt.close(fig)\n"
   ]
  },
  {
   "metadata": {},
   "cell_type": "markdown",
   "source": [
    "## Plot Reconstruction Comparison\n",
    "Provides a direct visual comparison between the initial 2D image and the image reconstructed from the RASER signals"
   ]
  },
  {
   "metadata": {},
   "cell_type": "markdown",
   "source": [
    "### Parameters\n",
    "- `original_image` (*numpy.ndarray*): 2D NumPy array representing initial image (i.e. `initial_map` created by `create_sample_inversion_map`); reference image for comparison\n",
    "- `reconstructed_image` (*numpy.ndarray*): 2D NumPy array representing imaged reconstructed from simulated RASER signals using inverse Radon transform\n",
    "- `path` (*pathlib.Path object*): full file path (including extension) where the generated comparison plot will be saved\n",
    "\n",
    "### Outputs\n",
    "- saves a `.png` image to the specified `path`\n",
    "- displays plot using `plt.show()` and closes plot with `plt.close(fig)`"
   ]
  },
  {
   "metadata": {},
   "cell_type": "code",
   "outputs": [],
   "execution_count": null,
   "source": [
    "def plot_reconstruction_comparison(original_image, reconstructed_image, path):\n",
    "    fig, axes = plt.subplots(1, 2, figsize=(10, 5)) # create figure and 1x2 grid of axes objects\n",
    "    fig.suptitle(\"Image Reconstruction Comparison\", fontsize=16)\n",
    "\n",
    "    # Subplot 1. Original Image (left)\n",
    "    orig = axes[0]\n",
    "    orig.imshow(original_image, cmap='gray', vmin=0, vmax=1)\n",
    "    orig.set_title(\"Original Image\")\n",
    "    orig.set_axis_off()\n",
    "\n",
    "    # Subplot 2. Reconstructed Image (right)\n",
    "    recon = axes[1]\n",
    "    recon.imshow(reconstructed_image, cmap='gray')\n",
    "    recon.set_title(\"Reconstructed from RASER Signals\")\n",
    "    recon.set_axis_off()\n",
    "\n",
    "    # Finalizing and Saving\n",
    "    plt.tight_layout(rect=[0, 0.03, 1, 0.95])\n",
    "    plt.savefig(path)\n",
    "    plt.show()\n",
    "    print(f\"Saved reconstruction comparison to {path}\")\n",
    "    plt.close(fig)"
   ]
  },
  {
   "cell_type": "markdown",
   "source": [
    "## Test Functions\n",
    "Comment/uncomment out functions to test they are working."
   ],
   "metadata": {
    "id": "1jYe9RO269mA"
   }
  },
  {
   "cell_type": "code",
   "source": [
    "# Sample Inversion map\n",
    "# create_sample_inversion_map()\n",
    "\n",
    "# 1D Sample Inversion map\n",
    "create_sample_inversion_map_flattened()\n",
    "\n",
    "# Simulate RASER Dynamics\n",
    "simulate_raser_dynamics(initial_population_inversion=create_sample_inversion_map_flattened())"
   ],
   "metadata": {
    "id": "xVIfCrFG68or",
    "ExecuteTime": {
     "end_time": "2025-07-22T19:10:40.831048Z",
     "start_time": "2025-07-22T19:07:10.027562Z"
    }
   },
   "outputs": [
    {
     "name": "stdout",
     "output_type": "stream",
     "text": [
      "Running multimode RASER simulation with 9 modes...\n"
     ]
    },
    {
     "ename": "KeyboardInterrupt",
     "evalue": "",
     "output_type": "error",
     "traceback": [
      "\u001B[31m---------------------------------------------------------------------------\u001B[39m",
      "\u001B[31mKeyboardInterrupt\u001B[39m                         Traceback (most recent call last)",
      "\u001B[36mCell\u001B[39m\u001B[36m \u001B[39m\u001B[32mIn[14]\u001B[39m\u001B[32m, line 8\u001B[39m\n\u001B[32m      5\u001B[39m createSampleInversionMapFLATTENED()\n\u001B[32m      7\u001B[39m \u001B[38;5;66;03m# Simulate RASER Dynamics\u001B[39;00m\n\u001B[32m----> \u001B[39m\u001B[32m8\u001B[39m \u001B[43msimulateRaserDynamics\u001B[49m\u001B[43m(\u001B[49m\u001B[43minitialPopulationInversion\u001B[49m\u001B[43m=\u001B[49m\u001B[43mcreateSampleInversionMapFLATTENED\u001B[49m\u001B[43m(\u001B[49m\u001B[43m)\u001B[49m\u001B[43m)\u001B[49m\n",
      "\u001B[36mCell\u001B[39m\u001B[36m \u001B[39m\u001B[32mIn[7]\u001B[39m\u001B[32m, line 62\u001B[39m, in \u001B[36msimulateRaserDynamics\u001B[39m\u001B[34m(initialPopulationInversion, T1, T2, couplingBeta, centerFreqHz, gainBandwidthHz, modeSpacingHz, simDuration, pointsPerSec)\u001B[39m\n\u001B[32m     57\u001B[39m \u001B[38;5;250m\u001B[39m\u001B[33;03m\"\"\"\u001B[39;00m\n\u001B[32m     58\u001B[39m \u001B[33;03mSolve ODEs (ordinary differential equations)\u001B[39;00m\n\u001B[32m     59\u001B[39m \u001B[33;03mdense_output = True creates a continuous solution object that can be evaluated at arbitrary time points\u001B[39;00m\n\u001B[32m     60\u001B[39m \u001B[33;03m\"\"\"\u001B[39;00m\n\u001B[32m     61\u001B[39m \u001B[38;5;66;03m# solve ODEs (ordinary differential equations), dense_output=True creates a continuous solution object that can be evaluated at arbitrary time points\u001B[39;00m\n\u001B[32m---> \u001B[39m\u001B[32m62\u001B[39m sol = \u001B[43msolve_ivp\u001B[49m\u001B[43m(\u001B[49m\u001B[43mraserOdeSystem\u001B[49m\u001B[43m,\u001B[49m\u001B[43m \u001B[49m\u001B[43mtSpan\u001B[49m\u001B[43m,\u001B[49m\u001B[43m \u001B[49m\u001B[43my0\u001B[49m\u001B[43m,\u001B[49m\u001B[43m \u001B[49m\u001B[43mmethod\u001B[49m\u001B[43m=\u001B[49m\u001B[33;43m'\u001B[39;49m\u001B[33;43mRK45\u001B[39;49m\u001B[33;43m'\u001B[39;49m\u001B[43m,\u001B[49m\u001B[43m \u001B[49m\u001B[43mdense_output\u001B[49m\u001B[43m=\u001B[49m\u001B[38;5;28;43;01mTrue\u001B[39;49;00m\u001B[43m)\u001B[49m\n\u001B[32m     64\u001B[39m \u001B[38;5;250m\u001B[39m\u001B[33;03m\"\"\"\u001B[39;00m\n\u001B[32m     65\u001B[39m \u001B[33;03mProcess Output Signal\u001B[39;00m\n\u001B[32m     66\u001B[39m \u001B[33;03m\"\"\"\u001B[39;00m\n\u001B[32m     67\u001B[39m outputTimePoints = np.linspace(tSpan[\u001B[32m0\u001B[39m], tSpan[\u001B[32m1\u001B[39m], \u001B[38;5;28mint\u001B[39m(simDuration * pointsPerSec)) \u001B[38;5;66;03m# array of time points created using simDuration and pointsPerSec\u001B[39;00m\n",
      "\u001B[36mFile \u001B[39m\u001B[32m/Library/Frameworks/Python.framework/Versions/3.12/lib/python3.12/site-packages/scipy/integrate/_ivp/ivp.py:668\u001B[39m, in \u001B[36msolve_ivp\u001B[39m\u001B[34m(fun, t_span, y0, method, t_eval, dense_output, events, vectorized, args, **options)\u001B[39m\n\u001B[32m    665\u001B[39m y = solver.y\n\u001B[32m    667\u001B[39m \u001B[38;5;28;01mif\u001B[39;00m dense_output:\n\u001B[32m--> \u001B[39m\u001B[32m668\u001B[39m     sol = \u001B[43msolver\u001B[49m\u001B[43m.\u001B[49m\u001B[43mdense_output\u001B[49m\u001B[43m(\u001B[49m\u001B[43m)\u001B[49m\n\u001B[32m    669\u001B[39m     interpolants.append(sol)\n\u001B[32m    670\u001B[39m \u001B[38;5;28;01melse\u001B[39;00m:\n",
      "\u001B[36mFile \u001B[39m\u001B[32m/Library/Frameworks/Python.framework/Versions/3.12/lib/python3.12/site-packages/scipy/integrate/_ivp/base.py:208\u001B[39m, in \u001B[36mOdeSolver.dense_output\u001B[39m\u001B[34m(self)\u001B[39m\n\u001B[32m    204\u001B[39m                 \u001B[38;5;28mself\u001B[39m.status = \u001B[33m'\u001B[39m\u001B[33mfinished\u001B[39m\u001B[33m'\u001B[39m\n\u001B[32m    206\u001B[39m     \u001B[38;5;28;01mreturn\u001B[39;00m message\n\u001B[32m--> \u001B[39m\u001B[32m208\u001B[39m \u001B[38;5;28;01mdef\u001B[39;00m\u001B[38;5;250m \u001B[39m\u001B[34mdense_output\u001B[39m(\u001B[38;5;28mself\u001B[39m):\n\u001B[32m    209\u001B[39m \u001B[38;5;250m    \u001B[39m\u001B[33;03m\"\"\"Compute a local interpolant over the last successful step.\u001B[39;00m\n\u001B[32m    210\u001B[39m \n\u001B[32m    211\u001B[39m \u001B[33;03m    Returns\u001B[39;00m\n\u001B[32m   (...)\u001B[39m\u001B[32m    214\u001B[39m \u001B[33;03m        Local interpolant over the last successful step.\u001B[39;00m\n\u001B[32m    215\u001B[39m \u001B[33;03m    \"\"\"\u001B[39;00m\n\u001B[32m    216\u001B[39m     \u001B[38;5;28;01mif\u001B[39;00m \u001B[38;5;28mself\u001B[39m.t_old \u001B[38;5;129;01mis\u001B[39;00m \u001B[38;5;28;01mNone\u001B[39;00m:\n",
      "\u001B[31mKeyboardInterrupt\u001B[39m: "
     ]
    }
   ],
   "execution_count": 14
  }
 ]
}
