{
 "nbformat": 4,
 "nbformat_minor": 0,
 "metadata": {
  "colab": {
   "provenance": []
  },
  "kernelspec": {
   "name": "python3",
   "display_name": "Python 3"
  },
  "language_info": {
   "name": "python"
  }
 },
 "cells": [
  {
   "cell_type": "markdown",
   "source": [
    "# RASER MRI Sim 5\n",
    "> **Code Author**: Alon Greenbaum \\\n",
    "> **Last Edit**: 18 July 2025 \\\n",
    "> **Last Edited by**: Reagan McNeill Womack \\\n",
    "\n",
    "Code based on dynamics and theory outlined in [DOI: 10.1126/sciadv.abp8483](https://doi.org/10.1126/sciadv.abp8483)\n",
    "\n",
    "*Google Gemini generative AI was used in the development of this notebook.*"
   ],
   "metadata": {
    "id": "dyJbpfHf7uhl"
   }
  },
  {
   "cell_type": "markdown",
   "source": [
    "## Requirements"
   ],
   "metadata": {
    "id": "THexnBIZ4Y1E"
   }
  },
  {
   "cell_type": "code",
   "metadata": {
    "id": "59NiYjJK1yzD",
    "ExecuteTime": {
     "end_time": "2025-07-22T19:00:54.652338Z",
     "start_time": "2025-07-22T19:00:53.904553Z"
    }
   },
   "source": [
    "import numpy as np\n",
    "import matplotlib.pyplot as plt\n",
    "from scipy.integrate import solve_ivp\n",
    "from scipy.ndimage import rotate\n",
    "from pathlib import Path\n",
    "import os\n",
    "from datetime import datetime\n",
    "import random\n",
    "from skimage.transform import radon, iradon\n",
    "from skimage.io import imsave"
   ],
   "outputs": [],
   "execution_count": 3
  },
  {
   "cell_type": "markdown",
   "source": [
    "## Results Directory\n",
    "If directory does not exist, a new directory is made at location defined with `path`."
   ],
   "metadata": {
    "id": "5TYdXius5EX2"
   }
  },
  {
   "cell_type": "code",
   "source": [
    "def makedirs(path):\n",
    "  if not os.path.exists(path):\n",
    "    os.makedirs(path)"
   ],
   "metadata": {
    "id": "DqJfHtkr5Lv8",
    "ExecuteTime": {
     "end_time": "2025-07-22T19:00:54.663440Z",
     "start_time": "2025-07-22T19:00:54.661127Z"
    }
   },
   "outputs": [],
   "execution_count": 4
  },
  {
   "cell_type": "markdown",
   "source": [
    "## Sample Inversion Map\n",
    "Create a sample 2D inversion map with a square shape for demonstration.\n",
    "\n",
    "### Parameters\n",
    "- `shape` (tuple of `int`, default: `(10,10)`: defines size of map, includes 2 variables (1 for each direction); represents the initial distribution of population inversion in a 2D space\n",
    "\n",
    "### Returns\n",
    "- A 2D NumPy array with dimensions specified by `shape`, a simplified population inversion map"
   ],
   "metadata": {
    "id": "CRqs7-i05Vai"
   }
  },
  {
   "cell_type": "code",
   "source": [
    "def create_sample_inversion_map(shape=(10,10)):\n",
    "  square_size = (shape[0] // 2, shape[1] // 2) # set size of square using parameter\n",
    "  inversion_map = np.full(square_size, 1)\n",
    "  inversion_map = np.pad(inversion_map, ((shape[0] // 4, shape[0] // 4), (shape[1] // 4, shape[1] // 4)), mode=\"constant\", constant_values=0)\n",
    "  return inversion_map"
   ],
   "metadata": {
    "colab": {
     "base_uri": "https://localhost:8080/"
    },
    "id": "51FDAKjk5U7d",
    "outputId": "b6831150-84dc-429b-abee-a5ed651d1c20",
    "ExecuteTime": {
     "end_time": "2025-07-22T19:00:54.673589Z",
     "start_time": "2025-07-22T19:00:54.671280Z"
    }
   },
   "outputs": [],
   "execution_count": 5
  },
  {
   "metadata": {},
   "cell_type": "markdown",
   "source": [
    "### Create 1D Inversion Map\n",
    "For testing purposes ONLY \\\n",
    "Flattens 2D sample inversion map from above"
   ]
  },
  {
   "metadata": {
    "ExecuteTime": {
     "end_time": "2025-07-22T19:07:00.928958Z",
     "start_time": "2025-07-22T19:07:00.922648Z"
    }
   },
   "cell_type": "code",
   "source": [
    "def create_sample_inversion_map_flattened(shape=(10,10), angle=0, d0_total_val=25e16):\n",
    "    sample_2d_map = create_sample_inversion_map(shape=shape) # create 2D map\n",
    "\n",
    "    # get a 1D projection from 2D map at angle theta (default 0 deg)\n",
    "    single_projection_1d = radon(sample_2d_map, theta=[angle], circle=True).flatten()\n",
    "\n",
    "    # normalize (optional)\n",
    "    if np.sum(single_projection_1d) > 0:\n",
    "        single_projection_1d = single_projection_1d / np.sum(single_projection_1d)\n",
    "\n",
    "    # scale by total population inversion (if applicable)\n",
    "    scaled_single_projection = (d0_total_val * single_projection_1d)\n",
    "\n",
    "    \"\"\"\n",
    "    # plot 1D inversion map\n",
    "    plt.figure(figsize=(10,10))\n",
    "    plt.plot(scaled_single_projection)\n",
    "    plt.title(f'1D Projection from 2D Map (Angle = {angle} degrees)')\n",
    "    plt.xlabel('Detector Element / Mode Index')\n",
    "    plt.ylabel('Normalized Projection Value')\n",
    "    plt.grid(True)\n",
    "    plt.show()\n",
    "    \"\"\"\n",
    "\n",
    "    return scaled_single_projection"
   ],
   "outputs": [],
   "execution_count": 13
  },
  {
   "cell_type": "markdown",
   "source": [
    "## Simulate RASER Dynamics\n",
    "Core simulation function \\\n",
    "It models the time evolution of multiple interacting RASER (Radio-frequency Amplification by Stimulated Emission of Radiation) modes based on a set of coupled non-linear ordinary differential equations (ODEs), as described in the supplementary material (equations S5-S9). It takes an initial 1D population inversion profile and simulates how the population inversion, mode amplitudes, and phases change over time, ultimately calculating the total measurable output signal."
   ],
   "metadata": {
    "id": "qhuKa3AV7Os8"
   }
  },
  {
   "metadata": {},
   "cell_type": "markdown",
   "source": [
    "### Parameters\n",
    "- `initial_population_inversion` (numpy.ndarray): a 1D NumPy array representing the initial population inversion $d_{\\mu}(0)$ for each RASER mode/slice; this array is typically a 1D projection obtained from the 2D image\n",
    "- `T1` (float, default: 5.0): the longitudinal relaxation time $T_1$ in seconds; this parameter governs how quickly the population inversion recovers to its equilibrium state (or decays if no pumping is present)\n",
    "- `T2` (float, default: 0.7): the effective transverse relation time $T_2^*$ in seconds; this parameter describes the decay of the transverse magnetization (and thus the amplitude for each mode)\n",
    "- `coupling_beta` (float, default: 1.0): the coupling parameter $\\beta$ that dictates the strength of the interaction between the RASER modes and the overall gain; it's derived from physical constant and resonator properties\n",
    "- `center_freq_hz` (float, default: 50.0): the center frequency $\\nu_0$ of the RASER resonator in Hertz; this is the central frequency around which the individual RASER modes are distributed\n",
    "- `gain_bandwidth_hz` (float, default: 10.0): the total bandwidth $\\Delta$ of the imaging domain in Hertz, which corresponds to the frequency range covered by the magnetic field gradient\n",
    "- `mode_spacing_hz` (float, default: 0.2): the frequency separation $\\delta \\nu$ between adjacent RASER modes in Hertz\n",
    "- `sim_duration` (float, default: 2.0): the total duration of the simulation in seconds\n",
    "- `points_per_sec` (int, default: 2000): the number of data points to generate per second of simulation time for the output signal; this affects the temporal resolution of the `output_signal`\n",
    "\n",
    "### Returns: `dict`\n",
    "A dictionary containing the results of the simulation.\n",
    "- `time` (numpy.ndarray): a 1D array of time points (in seconds) at which the output signal was sampled\n",
    "- `n_modes` (int): the number of RASER modes/slices ($N$) simulated\n",
    "- `initial_inversion` (numpy.ndarray): the 1D array of initial population inversion values for each mode, as provided to the function\n",
    "- `final_inversion` (numpy.ndarray): a 1D array of the population inversion values for each mode at the end of the simulation\n",
    "- `final_amplitude` (numpy.ndarray): a 1D array of the amplitude values ($A_\\mu$) for each mode at the end of the simulation\n",
    "- `output_signal` (numpy.ndarray): a 1D array representing the total simulated RASER signal ($Sig(t)$) (see Eq. S9) over the `sim_duration`"
   ]
  },
  {
   "metadata": {
    "ExecuteTime": {
     "end_time": "2025-07-22T19:00:54.697033Z",
     "start_time": "2025-07-22T19:00:54.690868Z"
    }
   },
   "cell_type": "code",
   "source": [
    "def simulate_raser_dynamics(\n",
    "        initial_population_inversion,\n",
    "        T1=5.0,\n",
    "        T2=0.7,\n",
    "        coupling_beta=1.0,\n",
    "        center_freq_hz=50.0,\n",
    "        gain_bandwidth_hz=10.0,\n",
    "        mode_spacing_hz=0.2,\n",
    "        sim_duration=2.0,\n",
    "        points_per_sec=2000,\n",
    "):\n",
    "    N = len(initial_population_inversion)\n",
    "\n",
    "    # prevent running the simulation on empty projections\n",
    "    if N == 0 or np.all(initial_population_inversion == 0):\n",
    "        print(\"Initial Population Inversion is an empty projection - simulation cancelled\")\n",
    "        return {\n",
    "            'time': np.linspace(0, sim_duration, int(sim_duration * points_per_sec)),\n",
    "            'n_modes': N,\n",
    "            'initial_inversion': initial_population_inversion,\n",
    "            'final_inversion': np.zeros(N),\n",
    "            'final_amplitude': np.zeros(N),\n",
    "            'output_signal': np.zeros(int(sim_duration * points_per_sec)),\n",
    "        }\n",
    "\n",
    "    print(f\"Running multimode RASER simulation with {N} modes...\")\n",
    "    epsilon = 1e-12 # used to prevent division by zero\n",
    "    mu_indices = np.arange(1, N + 1)\n",
    "    natural_freq_hz = center_freq_hz - 0.5 * (gain_bandwidth_hz - mode_spacing_hz * (2 * mu_indices - 1))\n",
    "    omega_natural_rad = 2 * np.pi * natural_freq_hz # first term in Eq. S7\n",
    "\n",
    "    d0 = initial_population_inversion # initial population inversion for each mode\n",
    "    A0 = np.random.uniform(0,1e-4,N) # initial amplitudes for each mode, set to tiny random values\n",
    "    phi0 = np.random.uniform(0,2 * np.pi,N) # initial phases for each mode, set to random values between 0 and 2pi\n",
    "    y0 = np.concatenate([d0,A0,phi0]) # create 1D array from above 3 arrays in format ODE solver expects\n",
    "\n",
    "    def raser_ode_system(t, y):\n",
    "        d = y[0:N]\n",
    "        A = y[N:2 * N]\n",
    "        phi = y[2 * N:3 * N]\n",
    "\n",
    "        X = np.sum(A * np.cos(phi))\n",
    "        Y = np.sum(A * np.sin(phi))\n",
    "        cos_phi = np.cos(phi)\n",
    "        sin_phi = np.sin(phi)\n",
    "        sum_term_1 = (X * cos_phi) + (Y * sin_phi)\n",
    "        sum_term_2 = (Y * cos_phi) - (X * sin_phi)\n",
    "\n",
    "        S5 = -(d/T1)-(4*coupling_beta*d*(sum_term_1 ** 2)) # solves Eq. S5\n",
    "        S6 = -(A/T2) + (coupling_beta * d * sum_term_1) # solves Eq. S6\n",
    "        S7 = omega_natural_rad + (coupling_beta * (d / (A + epsilon))) * sum_term_2 # solves Eq. S7\n",
    "\n",
    "        dydt = np.concatenate([S5, S6, S7]) # concatenates functions into a 1D array matching structure of y\n",
    "        return dydt\n",
    "\n",
    "    t_span = [0, sim_duration] # defines time interval from 0 to sim_duration\n",
    "    \"\"\"\n",
    "    Solve ODEs (ordinary differential equations)\n",
    "    dense_output = True creates a continuous solution object that can be evaluated at arbitrary time points\n",
    "    \"\"\"\n",
    "    # solve ODEs (ordinary differential equations), dense_output=True creates a continuous solution object that can be evaluated at arbitrary time points\n",
    "    sol = solve_ivp(raser_ode_system, t_span, y0, method='RK45', dense_output=True)\n",
    "\n",
    "    \"\"\"\n",
    "    Process Output Signal\n",
    "    \"\"\"\n",
    "    output_t_points = np.linspace(t_span[0], t_span[1], int(sim_duration * points_per_sec)) # array of time points created using sim_duration and points_per_sec\n",
    "    output_signal = np.zeros(len(output_t_points))\n",
    "    final_state_y = sol.sol(output_t_points[-1]) # all d, A, and phi values at last outputTimePoint\n",
    "\n",
    "    for i, t_point in enumerate(output_t_points): # Signal Calculation Loop\n",
    "        current_state_y = sol.sol(t_point) # used to retrieve d, A, and phi at current t_point\n",
    "        A_current = current_state_y[N:2*N] # amplitudes at current_state_y\n",
    "        phi_current = current_state_y[2*N:3*N] # phases at current_state_y\n",
    "        output_signal[i] = (1 / np.sqrt(N)) * np.sum(A_current * np.cos(phi_current)) # total RASER signal calculated from Eq. S9\n",
    "\n",
    "    return {\n",
    "        'time': output_t_points,\n",
    "        'n_modes': N,\n",
    "        'initial_inversion': d0,\n",
    "        'final_inversion': final_state_y[0:N],\n",
    "        'final_amplitude': final_state_y[N:2*N],\n",
    "        'output_signal': output_signal,\n",
    "    }"
   ],
   "outputs": [],
   "execution_count": 7
  },
  {
   "metadata": {},
   "cell_type": "markdown",
   "source": [
    "## Plot Results\n",
    "Visualizes the simulation results from the multimode RASER model"
   ]
  },
  {
   "metadata": {},
   "cell_type": "markdown",
   "source": [
    "### Parameters\n",
    "- `results` (*dict*): A dictionary containing the output from the simulate_raser_dynamics function. It is expected to have the following keys:\n",
    "    - `time` (numpy.ndarray): a 1D array of time points (in seconds) at which the output signal was sampled\n",
    "    - `n_modes` (int): the number of RASER modes/slices ($N$) simulated\n",
    "    - `initial_inversion` (numpy.ndarray): the 1D array of initial population inversion values for each mode, as provided to the function\n",
    "    - `final_inversion` (numpy.ndarray): a 1D array of the population inversion values for each mode at the end of the simulation\n",
    "    - `final_amplitude` (numpy.ndarray): a 1D array of the amplitude values ($A_\\mu$) for each mode at the end of the simulation\n",
    "    - `output_signal` (numpy.ndarray): a 1D array representing the total simulated RASER signal ($Sig(t)$) (see Eq. S9) over the `sim_duration`\n",
    "- `png_path` (*pathlib.Path object*): the full file path (including filename and .png extension) where the generated plot will be saved\n",
    "\n",
    "### Outputs\n",
    "- saves a`.png` image file to the specified `png_path`\n",
    "- displays plot using `plt.show()` and closes plot with `plt.close(fig)` to free up memory"
   ]
  },
  {
   "metadata": {},
   "cell_type": "code",
   "outputs": [],
   "execution_count": null,
   "source": [
    "def plot_results(results, png_path):\n",
    "    time = results['time']\n",
    "    N = results['n_modes']\n",
    "    signal = results['output_signal']\n",
    "    mode_indices = np.arange(1, N + 1) if N > 0 else [] # mu index for plotting\n",
    "\n",
    "    fig, axes = plt.subplots(2, 2, figsize=(14, 11)) # creates a figure with a 2x2 grid for 4 plots\n",
    "    fig.suptitle(\"Multimode RASER Simulation (Single Projection)\", fontsize=16)\n",
    "\n",
    "    # Subplot 1. Population Inversion Profiles (top-left)\n",
    "    ax1 = axes[0, 0] # select top-left subplot\n",
    "    if N > 0: # plot two lines if N > 0\n",
    "        ax1.plot(mode_indices, results['initial_inversion'], 'o-', label=f'$d_\\\\mu(t=0)$')\n",
    "        ax1.plot(mode_indices, results['final_inversion'], 'o-', label=f'$d_\\\\mu(t={time[-1]:.2f}s)$')\n",
    "    ax1.set_title(\"Population Inversion Profiles\")\n",
    "    ax1.set_xlabel(\"Mode Index ($\\\\mu$)\")\n",
    "    ax1.set_ylabel(\"Population Inversion ($d_\\\\mu$)\")\n",
    "    ax1.legend()\n",
    "    ax1.grid(True)\n",
    "\n",
    "    # Subplot 2. Final Mode Amplitudes (top-right)\n",
    "    ax2 = axes[0, 1] # select top-right subplot\n",
    "    if N > 0:\n",
    "        ax2.bar(mode_indices, results['final_amplitude'], width=0.8)\n",
    "    ax2.set_title(f\"Final Mode Amplitudes ($A_\\\\mu$) at t={time[-1]:.2f}s\")\n",
    "    ax2.set_xlabel(\"Mode Index ($\\\\mu$)\")\n",
    "    ax2.set_ylabel(\"Amplitude ($A_\\\\mu$)\")\n",
    "    ax2.grid(True, axis='y')\n",
    "\n",
    "    # Subplot 3. Total Output Signal (bottom-left)\n",
    "    ax3 = axes[1, 0] # select bottom-left subplot\n",
    "    ax3.plot(time, signal)\n",
    "    ax3.set_title(\"Total Output Signal $Sig(t)$ (Eq. S9)\")\n",
    "    ax3.set_xlabel(\"Time (s)\")\n",
    "    ax3.set_ylabel(\"Signal Amplitude (a.u.)\")\n",
    "    ax3.grid(True)\n",
    "\n",
    "    # Subplot 4. Spectrum of Output Signal (bottom-right)\n",
    "    min_freq_hz = 35\n",
    "    max_freq_hz = 65\n",
    "    ax4 = axes[1, 1] # select bottom-right subplot\n",
    "    dt = time[1] - time[0]\n",
    "    signal_fft = np.fft.fft(signal)\n",
    "    freqs = np.fft.fftfreq(len(signal_fft), d=dt)\n",
    "    shifted_freqs = np.fft.fftshift(freqs)\n",
    "    shifted_magnitudes = np.fft.fftshift(np.abs(signal_fft))\n",
    "    freq_mask = (shifted_freqs >= min_freq_hz) & (shifted_freqs <= max_freq_hz)\n",
    "    ax4.plot(shifted_freqs[freq_mask], shifted_magnitudes[freq_mask])\n",
    "    ax4.set_title(\"Spectrum of Output Signal\")\n",
    "    ax4.set_xlabel(\"Frequency (Hz)\")\n",
    "    ax4.set_ylabel(\"Magnitude\")\n",
    "    ax4.grid(True)\n",
    "\n",
    "    # Finalize and save figure\n",
    "    fig.tight_layout(rect=[0, 0.03, 1, 0.95])\n",
    "    plt.savefig(png_path)\n",
    "    plt.show()\n",
    "    print(f\"Saved results as PNG to {png_path}\")\n",
    "    plt.close(fig)\n"
   ]
  },
  {
   "metadata": {},
   "cell_type": "markdown",
   "source": [
    "## Plot Reconstruction Comparison\n",
    "Provides a direct visual comparison between the initial 2D image and the image reconstructed from the RASER signals"
   ]
  },
  {
   "metadata": {},
   "cell_type": "markdown",
   "source": [
    "### Parameters\n",
    "- `original_image` (*numpy.ndarray*): 2D NumPy array representing initial image (i.e. `initial_map` created by `create_sample_inversion_map`); reference image for comparison\n",
    "- `reconstructed_image` (*numpy.ndarray*): 2D NumPy array representing imaged reconstructed from simulated RASER signals using inverse Radon transform\n",
    "- `path` (*pathlib.Path object*): full file path (including extension) where the generated comparison plot will be saved\n",
    "\n",
    "### Outputs\n",
    "- saves a `.png` image to the specified `path`\n",
    "- displays plot using `plt.show()` and closes plot with `plt.close(fig)`"
   ]
  },
  {
   "metadata": {},
   "cell_type": "code",
   "outputs": [],
   "execution_count": null,
   "source": [
    "def plot_reconstruction_comparison(original_image, reconstructed_image, path):\n",
    "    fig, axes = plt.subplots(1, 2, figsize=(10, 5)) # create figure and 1x2 grid of axes objects\n",
    "    fig.suptitle(\"Image Reconstruction Comparison\", fontsize=16)\n",
    "\n",
    "    # Subplot 1. Original Image (left)\n",
    "    orig = axes[0]\n",
    "    orig.imshow(original_image, cmap='gray', vmin=0, vmax=1)\n",
    "    orig.set_title(\"Original Image\")\n",
    "    orig.set_axis_off()\n",
    "\n",
    "    # Subplot 2. Reconstructed Image (right)\n",
    "    recon = axes[1]\n",
    "    recon.imshow(reconstructed_image, cmap='gray')\n",
    "    recon.set_title(\"Reconstructed from RASER Signals\")\n",
    "    recon.set_axis_off()\n",
    "\n",
    "    # Finalizing and Saving\n",
    "    plt.tight_layout(rect=[0, 0.03, 1, 0.95])\n",
    "    plt.savefig(path)\n",
    "    plt.show()\n",
    "    print(f\"Saved reconstruction comparison to {path}\")\n",
    "    plt.close(fig)"
   ]
  },
  {
   "metadata": {},
   "cell_type": "markdown",
   "source": [
    "## Main Execution Block\n",
    "- Defines all constants and parameters for the simulation\n",
    "- Sets up directory structure for saving results\n",
    "- Executes simulations\n",
    "- Saves results\n",
    "- Generates plots"
   ]
  },
  {
   "metadata": {},
   "cell_type": "markdown",
   "source": [
    "### Physical Constants and Experimental Parameters\n",
    "*from paper* indicates value listed in function was taken from reference material linked at the top of this document\n",
    "- `mu_0`: vacuum permeability $\\mu_0$\n",
    "- `h_bar`: reduced Planck constant $\\hbar$\n",
    "- `gamma_h`: proton ($^{1}H$) gyromagnetic ratio $\\gamma_H$\n",
    "- `T1`: longitudinal relaxation time $T_1$ *from paper*\n",
    "- `T2`: effective transverse relaxation time $T_2$ *from paper*\n",
    "- `q_factor`: quality factor of the resonator $Q$ *from paper*\n",
    "- `v_s`: sample volume $V_s$ *from paper*\n",
    "- `n_modes`: conceptual number of slices or modes; determines resolution of the 2D phantom\n",
    "- `delta_nu`: frequency spacing between modes $\\delta_{\\nu}$ *from paper*\n",
    "- `Delta`: total gain bandwidth $\\Delta$ *from paper*\n",
    "- `nu_0`: center frequency $\\nu_0$ *from paper*\n",
    "- `d0_total`: total initial population inversion of entire sample; used to scale 1D projections\n",
    "- `cplng_beta_calc`: coupling parameter $\\beta$ is calculated from above physical constants before being passed to simulate_laser_dynamics function\n",
    "\n",
    "### Reconstruction Parameters\n",
    "- `n_proj`: number of angles at which projections of 2D image will be taken; more projections lead to better reconstruction quality but increase computation time\n",
    "- `min_freq_hz` & `max_freq_hz`: define frequency window of interest when processing FFT of RASER output signal; only signal components within this range are considered for reconstructing the 1D projection\n",
    "\n",
    "### Setup Angles and Initialize Sinogram\n",
    "- `theta`: array of angles (in degrees) from 0 to just under 180, equally spaced by `n_proj`; angles at which the 2D image will be projected\n",
    "- `placehold_proj`: dummy Radon transform is performed at 0 deg to determine `detector_len`; use `radon` to get the expected detector size for the sinogram, `circle=True` ensures the projection size is consistent for reconstruction\n",
    "- `detector_len`: length of a single 1D projection (i.e. \"number of detector elements\" in each projection)\n",
    "- `reconstructed_sinogram`: empty 2D NumPy array initialized with zeros; will store all 1D *reconstructed* projections, with each column corresponding to a projection at a specific angle; primary input for the inverse Radon transform"
   ]
  },
  {
   "metadata": {},
   "cell_type": "code",
   "outputs": [],
   "execution_count": null,
   "source": [
    "if __name__ == '__main__':\n",
    "    # Physical Constants and Experimental Parameters\n",
    "    mu_0 = 4 * np.pi * 1e-7\n",
    "    h_bar = 1.05457e-34\n",
    "    gamma_h = 2.67522e8\n",
    "    T1 = 5.0\n",
    "    T2 = 0.7\n",
    "    q_factor = 100\n",
    "    v_s = 0.5 * (1e-2)**3\n",
    "    n_modes = 50\n",
    "    delta_nu = 0.2\n",
    "    Delta = 10.0\n",
    "    nu_0 = 50.0\n",
    "    d0_total = 25e16\n",
    "    cplng_beta_calc = (mu_0 * h_bar * gamma_h**2 * q_factor) / (4 * v_s)\n",
    "    print(f'Calculated Coupling Constant $\\beta$: {cplng_beta_calc:.4e}\\n')\n",
    "\n",
    "    # Setup Output Directory\n",
    "    output_directory_root = Path('./Sim_RASER_Output/') # root folder for outputs, using local directory\n",
    "    model_name = '{}_{}'.format('RASER_reconstruction', datetime.now().strftime(\"%Y%m%d-%H%M%S\")) # unique name for current run with timestamp\n",
    "    res_dir = output_directory_root / model_name # full path for current run results\n",
    "    makedirs(res_dir)\n",
    "    print(f'Results will be saved at: {res_dir}\\n')\n",
    "\n",
    "    # Reconstruction Parameters\n",
    "    n_proj = 60\n",
    "    min_freq_hz = 35\n",
    "    max_freq_hz = 65\n",
    "    print('Reconstruction Parameters Set')\n",
    "    print(f'Number of Projections: {n_proj}')\n",
    "    print(f'Frequency Range: {min_freq_hz}-{max_freq_hz}')\n",
    "\n",
    "    # Create original 2D image\n",
    "    init_map = create_sample_inversion_map(shape=(n_modes, n_modes)) # shape determined by n_modes\n",
    "    print('Original 2D Ground Truth Image Created\\n')\n",
    "\n",
    "    # Setup angles and initialize sinogram\n",
    "    theta = np.linspace(0., 180., n_proj, endpoint=False)\n",
    "    placehold_proj = radon(init_map, theta=[0], circle=True)\n",
    "    detector_len = len(placehold_proj)\n",
    "    reconstructed_sinogram = np.zeros((detector_len, n_proj))\n",
    "    print(f'Starting reconstruction with {n_proj} projections...')\n",
    "    print(f'Each reconstructed projection will be interpolated to a detector length of {detector_len}.\\n')"
   ]
  },
  {
   "cell_type": "markdown",
   "source": [
    "## Test Functions\n",
    "Comment/uncomment out functions to test they are working."
   ],
   "metadata": {
    "id": "1jYe9RO269mA"
   }
  },
  {
   "cell_type": "code",
   "source": [
    "# Sample Inversion map\n",
    "# create_sample_inversion_map()\n",
    "\n",
    "# 1D Sample Inversion map\n",
    "# create_sample_inversion_map_flattened()\n",
    "\n",
    "# Simulate RASER Dynamics\n",
    "# simulate_raser_dynamics(initial_population_inversion=create_sample_inversion_map_flattened())\n",
    "\n",
    "# Calculate Coupling Beta\n",
    "mu_0 = 4 * np.pi * 1e-7\n",
    "h_bar = 1.05457e-34\n",
    "gamma_h = 2.67522e8\n",
    "T1 = 5.0\n",
    "T2 = 0.7\n",
    "q_factor = 100\n",
    "v_s = 0.5 * (1e-2)**3\n",
    "n_modes = 50\n",
    "delta_nu = 0.2\n",
    "Delta = 10.0\n",
    "nu_0 = 50.0\n",
    "d0_total = 25e16\n",
    "cplng_beta_calc = (mu_0 * h_bar * gamma_h**2 * q_factor) / (4 * v_s)\n",
    "print(f'Calculated Coupling Constant (beta): {cplng_beta_calc:.4e}')"
   ],
   "metadata": {
    "id": "xVIfCrFG68or",
    "ExecuteTime": {
     "end_time": "2025-07-23T19:19:55.637524Z",
     "start_time": "2025-07-23T19:19:55.630569Z"
    }
   },
   "outputs": [
    {
     "name": "stdout",
     "output_type": "stream",
     "text": [
      "Calculated Coupling Constant (beta): 4.7421e-16\n"
     ]
    }
   ],
   "execution_count": 17
  }
 ]
}
