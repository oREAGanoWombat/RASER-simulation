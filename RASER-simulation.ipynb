{
 "nbformat": 4,
 "nbformat_minor": 0,
 "metadata": {
  "colab": {
   "provenance": []
  },
  "kernelspec": {
   "name": "python3",
   "display_name": "Python 3"
  },
  "language_info": {
   "name": "python"
  }
 },
 "cells": [
  {
   "cell_type": "markdown",
   "source": [
    "# RASER MRI Sim 5\n",
    "> **Code Author**: Alon Greenbaum \\\n",
    "> **Last Edit**: 18 July 2025 \\\n",
    "> **Last Edited by**: Reagan McNeill Womack \\\n",
    "\n",
    "Code based on dynamics and theory outlined in [DOI: 10.1126/sciadv.abp8483](https://doi.org/10.1126/sciadv.abp8483)\n",
    "\n",
    "*Google Gemini generative AI was used in the development of this notebook.*"
   ],
   "metadata": {
    "id": "dyJbpfHf7uhl"
   }
  },
  {
   "cell_type": "markdown",
   "source": [
    "## Requirements"
   ],
   "metadata": {
    "id": "THexnBIZ4Y1E"
   }
  },
  {
   "cell_type": "code",
   "metadata": {
    "id": "59NiYjJK1yzD",
    "ExecuteTime": {
     "end_time": "2025-07-18T19:36:41.749390Z",
     "start_time": "2025-07-18T19:36:41.515866Z"
    }
   },
   "source": [
    "import numpy as np\n",
    "import matplotlib.pyplot as plt\n",
    "from scipy.integrate import solve_ivp\n",
    "from scipy.ndimage import rotate\n",
    "from pathlib import Path\n",
    "import os\n",
    "from datetime import datetime\n",
    "import random\n",
    "from skimage.transform import radon, iradon\n",
    "from skimage.io import imsave"
   ],
   "outputs": [
    {
     "ename": "ModuleNotFoundError",
     "evalue": "No module named 'matplotlib'",
     "output_type": "error",
     "traceback": [
      "\u001B[31m---------------------------------------------------------------------------\u001B[39m",
      "\u001B[31mModuleNotFoundError\u001B[39m                       Traceback (most recent call last)",
      "\u001B[36mCell\u001B[39m\u001B[36m \u001B[39m\u001B[32mIn[1]\u001B[39m\u001B[32m, line 2\u001B[39m\n\u001B[32m      1\u001B[39m \u001B[38;5;28;01mimport\u001B[39;00m\u001B[38;5;250m \u001B[39m\u001B[34;01mnumpy\u001B[39;00m\u001B[38;5;250m \u001B[39m\u001B[38;5;28;01mas\u001B[39;00m\u001B[38;5;250m \u001B[39m\u001B[34;01mnp\u001B[39;00m\n\u001B[32m----> \u001B[39m\u001B[32m2\u001B[39m \u001B[38;5;28;01mimport\u001B[39;00m\u001B[38;5;250m \u001B[39m\u001B[34;01mmatplotlib\u001B[39;00m\u001B[34;01m.\u001B[39;00m\u001B[34;01mpyplot\u001B[39;00m\u001B[38;5;250m \u001B[39m\u001B[38;5;28;01mas\u001B[39;00m\u001B[38;5;250m \u001B[39m\u001B[34;01mplt\u001B[39;00m\n\u001B[32m      3\u001B[39m \u001B[38;5;28;01mfrom\u001B[39;00m\u001B[38;5;250m \u001B[39m\u001B[34;01mscipy\u001B[39;00m\u001B[34;01m.\u001B[39;00m\u001B[34;01mintegrate\u001B[39;00m\u001B[38;5;250m \u001B[39m\u001B[38;5;28;01mimport\u001B[39;00m solve_ivp\n\u001B[32m      4\u001B[39m \u001B[38;5;28;01mfrom\u001B[39;00m\u001B[38;5;250m \u001B[39m\u001B[34;01mscipy\u001B[39;00m\u001B[34;01m.\u001B[39;00m\u001B[34;01mndimage\u001B[39;00m\u001B[38;5;250m \u001B[39m\u001B[38;5;28;01mimport\u001B[39;00m rotate\n",
      "\u001B[31mModuleNotFoundError\u001B[39m: No module named 'matplotlib'"
     ]
    }
   ],
   "execution_count": 1
  },
  {
   "cell_type": "markdown",
   "source": [
    "## Results Directory\n",
    "If directory does not exist, a new directory is made at location defined with `path`."
   ],
   "metadata": {
    "id": "5TYdXius5EX2"
   }
  },
  {
   "cell_type": "code",
   "source": [
    "def makedirs(path):\n",
    "  if not os.path.exists(path):\n",
    "    os.makedirs(path)"
   ],
   "metadata": {
    "id": "DqJfHtkr5Lv8"
   },
   "execution_count": 2,
   "outputs": []
  },
  {
   "cell_type": "markdown",
   "source": [
    "## Sample Inversion Map\n",
    "Create a sample 2D inversion map with a square shape for demonstration.\n",
    "\n",
    "### Parameters\n",
    "- `shape` (tuple of `int`, default: `(10,10)`: defines size of map, includes 2 variables (1 for each direction); represents the initial distribution of population inversion in a 2D space\n",
    "\n",
    "### Returns\n",
    "- A 2D NumPy array with dimensions specified by `shape`, a simplified population inversion map"
   ],
   "metadata": {
    "id": "CRqs7-i05Vai"
   }
  },
  {
   "cell_type": "code",
   "source": [
    "def createSampleInversionMap(shape=(10,10)):\n",
    "  squareSize = (shape[0] // 2, shape[1] // 2) # set size of square using parameter\n",
    "  inversionMap = np.full(squareSize, 1)\n",
    "  inversionMap = np.pad(inversionMap, ((shape[0] // 4, shape[0] // 4), (shape[1] // 4, shape[1] // 4)), mode=\"constant\", constant_values=0)\n",
    "  return inversionMap"
   ],
   "metadata": {
    "colab": {
     "base_uri": "https://localhost:8080/"
    },
    "id": "51FDAKjk5U7d",
    "outputId": "b6831150-84dc-429b-abee-a5ed651d1c20"
   },
   "execution_count": 3,
   "outputs": [
    {
     "output_type": "execute_result",
     "data": {
      "text/plain": [
       "array([[0, 0, 0, 0, 0, 0, 0, 0, 0],\n",
       "       [0, 0, 0, 0, 0, 0, 0, 0, 0],\n",
       "       [0, 0, 1, 1, 1, 1, 1, 0, 0],\n",
       "       [0, 0, 1, 1, 1, 1, 1, 0, 0],\n",
       "       [0, 0, 1, 1, 1, 1, 1, 0, 0],\n",
       "       [0, 0, 1, 1, 1, 1, 1, 0, 0],\n",
       "       [0, 0, 1, 1, 1, 1, 1, 0, 0],\n",
       "       [0, 0, 0, 0, 0, 0, 0, 0, 0],\n",
       "       [0, 0, 0, 0, 0, 0, 0, 0, 0]])"
      ]
     },
     "metadata": {},
     "execution_count": 3
    }
   ]
  },
  {
   "cell_type": "markdown",
   "source": [
    "## Simulate RASER Dynamics\n",
    "Core simulation function \\\n",
    "It models the time evolution of multiple interacting RASER (Radio-frequency Amplification by Stimulated Emission of Radiation) modes based on a set of coupled non-linear ordinary differential equations (ODEs), as described in the supplementary material (equations S5-S9). It takes an initial 1D population inversion profile and simulates how the population inversion, mode amplitudes, and phases change over time, ultimately calculating the total measurable output signal.\n",
    "\n",
    "### Parameters\n",
    "- \\\n",
    "\n",
    "### Returns: `dict`\n",
    "A dictionary containing the results of the simulation.\n",
    "- `time` (numpy.ndarray): a 1D array of time points (in seconds) at which the output signal was sampled\n",
    "- `Nmodes` (int): the number of RASER modes/slices ($N$) simulated\n",
    "- `initialInversion` (numpy.ndarray): the 1D array of initial population inversion values for each mode, as provided to the function\n",
    "- `finalInversion` (numpy.ndarray): a 1D array of the population inversion values for each mode at the end of the simulation\n",
    "- `finalAmplitude` (numpy.ndarray): a 1D array of the amplitude values ($A_\\mu$) for each mode at the end of the simulation\n",
    "- `outputSignal` (numpy.ndarray): a 1D array representing teh total simulated RASER signal ($Sig(t)$) (see Eq. S9) over the `simDuration`"
   ],
   "metadata": {
    "id": "qhuKa3AV7Os8"
   }
  },
  {
   "cell_type": "markdown",
   "source": [
    "## Test Functions\n",
    "Comment/uncomment out functions to test they are working."
   ],
   "metadata": {
    "id": "1jYe9RO269mA"
   }
  },
  {
   "cell_type": "code",
   "source": [
    "# Sample Inversion map\n",
    "createSampleInversionMap()"
   ],
   "metadata": {
    "id": "xVIfCrFG68or"
   },
   "execution_count": null,
   "outputs": []
  }
 ]
}
