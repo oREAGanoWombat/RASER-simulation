{
 "nbformat": 4,
 "nbformat_minor": 0,
 "metadata": {
  "colab": {
   "provenance": []
  },
  "kernelspec": {
   "name": "python3",
   "display_name": "Python 3"
  },
  "language_info": {
   "name": "python"
  }
 },
 "cells": [
  {
   "cell_type": "markdown",
   "source": [
    "# RASER MRI Sim 5\n",
    "> **Code Author**: Alon Greenbaum \\\n",
    "> **Last Edit**: 18 July 2025 \\\n",
    "> **Last Edited by**: Reagan McNeill Womack \\\n",
    "\n",
    "Code based on dynamics and theory outlined in [DOI: 10.1126/sciadv.abp8483](https://doi.org/10.1126/sciadv.abp8483)\n",
    "\n",
    "*Google Gemini generative AI was used in the development of this notebook.*"
   ],
   "metadata": {
    "id": "dyJbpfHf7uhl"
   }
  },
  {
   "cell_type": "markdown",
   "source": [
    "## Requirements"
   ],
   "metadata": {
    "id": "THexnBIZ4Y1E"
   }
  },
  {
   "cell_type": "code",
   "metadata": {
    "id": "59NiYjJK1yzD",
    "ExecuteTime": {
     "end_time": "2025-07-18T19:36:41.749390Z",
     "start_time": "2025-07-18T19:36:41.515866Z"
    }
   },
   "source": [
    "import numpy as np\n",
    "import matplotlib.pyplot as plt\n",
    "from scipy.integrate import solve_ivp\n",
    "from scipy.ndimage import rotate\n",
    "from pathlib import Path\n",
    "import os\n",
    "from datetime import datetime\n",
    "import random\n",
    "from skimage.transform import radon, iradon\n",
    "from skimage.io import imsave"
   ],
   "outputs": [
    {
     "ename": "ModuleNotFoundError",
     "evalue": "No module named 'matplotlib'",
     "output_type": "error",
     "traceback": [
      "\u001B[31m---------------------------------------------------------------------------\u001B[39m",
      "\u001B[31mModuleNotFoundError\u001B[39m                       Traceback (most recent call last)",
      "\u001B[36mCell\u001B[39m\u001B[36m \u001B[39m\u001B[32mIn[1]\u001B[39m\u001B[32m, line 2\u001B[39m\n\u001B[32m      1\u001B[39m \u001B[38;5;28;01mimport\u001B[39;00m\u001B[38;5;250m \u001B[39m\u001B[34;01mnumpy\u001B[39;00m\u001B[38;5;250m \u001B[39m\u001B[38;5;28;01mas\u001B[39;00m\u001B[38;5;250m \u001B[39m\u001B[34;01mnp\u001B[39;00m\n\u001B[32m----> \u001B[39m\u001B[32m2\u001B[39m \u001B[38;5;28;01mimport\u001B[39;00m\u001B[38;5;250m \u001B[39m\u001B[34;01mmatplotlib\u001B[39;00m\u001B[34;01m.\u001B[39;00m\u001B[34;01mpyplot\u001B[39;00m\u001B[38;5;250m \u001B[39m\u001B[38;5;28;01mas\u001B[39;00m\u001B[38;5;250m \u001B[39m\u001B[34;01mplt\u001B[39;00m\n\u001B[32m      3\u001B[39m \u001B[38;5;28;01mfrom\u001B[39;00m\u001B[38;5;250m \u001B[39m\u001B[34;01mscipy\u001B[39;00m\u001B[34;01m.\u001B[39;00m\u001B[34;01mintegrate\u001B[39;00m\u001B[38;5;250m \u001B[39m\u001B[38;5;28;01mimport\u001B[39;00m solve_ivp\n\u001B[32m      4\u001B[39m \u001B[38;5;28;01mfrom\u001B[39;00m\u001B[38;5;250m \u001B[39m\u001B[34;01mscipy\u001B[39;00m\u001B[34;01m.\u001B[39;00m\u001B[34;01mndimage\u001B[39;00m\u001B[38;5;250m \u001B[39m\u001B[38;5;28;01mimport\u001B[39;00m rotate\n",
      "\u001B[31mModuleNotFoundError\u001B[39m: No module named 'matplotlib'"
     ]
    }
   ],
   "execution_count": 1
  },
  {
   "cell_type": "markdown",
   "source": [
    "## Results Directory\n",
    "If directory does not exist, a new directory is made at location defined with `path`."
   ],
   "metadata": {
    "id": "5TYdXius5EX2"
   }
  },
  {
   "cell_type": "code",
   "source": [
    "def makedirs(path):\n",
    "  if not os.path.exists(path):\n",
    "    os.makedirs(path)"
   ],
   "metadata": {
    "id": "DqJfHtkr5Lv8"
   },
   "execution_count": 2,
   "outputs": []
  },
  {
   "cell_type": "markdown",
   "source": [
    "## Sample Inversion Map\n",
    "Create a sample 2D inversion map with a square shape for demonstration.\n",
    "\n",
    "### Parameters\n",
    "- `shape` (tuple of `int`, default: `(10,10)`: defines size of map, includes 2 variables (1 for each direction); represents the initial distribution of population inversion in a 2D space\n",
    "\n",
    "### Returns\n",
    "- A 2D NumPy array with dimensions specified by `shape`, a simplified population inversion map"
   ],
   "metadata": {
    "id": "CRqs7-i05Vai"
   }
  },
  {
   "cell_type": "code",
   "source": [
    "def createSampleInversionMap(shape=(10,10)):\n",
    "  squareSize = (shape[0] // 2, shape[1] // 2) # set size of square using parameter\n",
    "  inversionMap = np.full(squareSize, 1)\n",
    "  inversionMap = np.pad(inversionMap, ((shape[0] // 4, shape[0] // 4), (shape[1] // 4, shape[1] // 4)), mode=\"constant\", constant_values=0)\n",
    "  return inversionMap"
   ],
   "metadata": {
    "colab": {
     "base_uri": "https://localhost:8080/"
    },
    "id": "51FDAKjk5U7d",
    "outputId": "b6831150-84dc-429b-abee-a5ed651d1c20",
    "ExecuteTime": {
     "end_time": "2025-07-18T19:37:22.734183Z",
     "start_time": "2025-07-18T19:37:22.731423Z"
    }
   },
   "outputs": [],
   "execution_count": 3
  },
  {
   "cell_type": "markdown",
   "source": [
    "## Simulate RASER Dynamics\n",
    "Core simulation function \\\n",
    "It models the time evolution of multiple interacting RASER (Radio-frequency Amplification by Stimulated Emission of Radiation) modes based on a set of coupled non-linear ordinary differential equations (ODEs), as described in the supplementary material (equations S5-S9). It takes an initial 1D population inversion profile and simulates how the population inversion, mode amplitudes, and phases change over time, ultimately calculating the total measurable output signal."
   ],
   "metadata": {
    "id": "qhuKa3AV7Os8"
   }
  },
  {
   "metadata": {},
   "cell_type": "markdown",
   "source": [
    "### Parameters\n",
    "- `initialPopulationInversion` (numpy.ndarray): a 1D NumPy array representing teh initial population inversion $d_{\\mu}(0)$ for each RASER mode/slice; this array is typically a 1D projection obtained from the 2D image\n",
    "- `T1` (float, default: 5.0): the longitudinal relaxation time $T_1$ in seconds; this parameter governs how quickly the population inversion recovers to its equilibrium state (or decays if no pumping is present)\n",
    "- `T2` (float, default: 0.7): the effective transverse relation time $T_2^*$ in seconds; this parameter describes the decay of the transverse magnetization (and thus the amplitude for each mode)\n",
    "- `couplingBeta` (float, default: 1.0): the coupling parameter $\\beta$ that dictates the strength of the interaction between the RASER modes and the overall gain; it's derived from physical constant and resonator properties\n",
    "- `centerFreqHz` (float, default: 50.0): the center frequency $\\nu_0$ of the RASER resonator in Hertz; this is the central frequency around which the individual RASER modes are distributed\n",
    "- `gainBandwidthHz` (float, default: 10.0): the total bandwidth $\\Delta$ of the imaging domain in Hertz, which corresponds to the frequency range covered by the magnetic field gradient\n",
    "- `modeSpacingHz` (float, default: 0.2): the frequency separation $\\delta \\nu$ between adjacent RASER modes in Hertz\n",
    "- `simDuration` (float, default: 2.0): the total duration of the simulation in seconds\n",
    "- `pointsPerSec` (int, default: 2000): the number of data points to generate per second of simulation time for the output signal; this affects the temporal resolution of the `outputSignal`\n",
    "\n",
    "### Returns: `dict`\n",
    "A dictionary containing the results of the simulation.\n",
    "- `time` (numpy.ndarray): a 1D array of time points (in seconds) at which the output signal was sampled\n",
    "- `Nmodes` (int): the number of RASER modes/slices ($N$) simulated\n",
    "- `initialInversion` (numpy.ndarray): the 1D array of initial population inversion values for each mode, as provided to the function\n",
    "- `finalInversion` (numpy.ndarray): a 1D array of the population inversion values for each mode at the end of the simulation\n",
    "- `finalAmplitude` (numpy.ndarray): a 1D array of the amplitude values ($A_\\mu$) for each mode at the end of the simulation\n",
    "- `outputSignal` (numpy.ndarray): a 1D array representing the total simulated RASER signal ($Sig(t)$) (see Eq. S9) over the `simDuration`"
   ]
  },
  {
   "metadata": {},
   "cell_type": "code",
   "outputs": [],
   "execution_count": null,
   "source": [
    "def simulateRaserDynamics(\n",
    "        initialPopulationInversion,\n",
    "        T1=5.0,\n",
    "        T2=0.7,\n",
    "        couplingBeta=1.0,\n",
    "        centerFreqHz=50.0,\n",
    "        gainBandwidthHz=10.0,\n",
    "        modeSpacingHz=0.2,\n",
    "        simDuration=2.0,\n",
    "        pointsPerSec=2000,\n",
    "):\n",
    "    N = len(initialPopulationInversion)\n",
    "\n",
    "    # prevent running the simulation on empty projections\n",
    "    if N == 0 or np.all(initialPopulationInversion == 0):\n",
    "        print(\"Initial Population Inversion is an empty projection - simulation cancelled\")\n",
    "        return {\n",
    "            'time': np.linspace(0, simDuration, int(simDuration * pointsPerSec)),\n",
    "            'Nmodes': N,\n",
    "            'initialInversion': initialPopulationInversion,\n",
    "            'finalInversion': np.zeros(N),\n",
    "            'finalAmplitude': np.zeros(N),\n",
    "            'outputSignal': np.zeros(int(simDuration * pointsPerSec)),\n",
    "        }\n",
    "\n",
    "    print(f\"Running multimode RASER simulation with {N} modes...\")\n",
    "    epsilon = 1e-12 # used to prevent division by zero\n",
    "    muIndices = np.arrange(1, N + 1)\n",
    "    naturalFrequenciesHz = centerFreqHz - 0.5 * (gainBandwidthHz - modeSpacingHz * (2 * muIndices - 1))\n",
    "    omegaNaturalRad = 2 * np.pi * naturalFrequenciesHz # first term in Eq. S7\n",
    "\n",
    "    d0 = initialPopulationInversion # initial population inversion for each mode\n",
    "    A0 = np.random.uniform(0,1e-4,N) # initial amplitudes for each mode, set to tiny random values\n",
    "    phi0 = np.random.uniform(0,2 * np.pi,N) # initial phases for each mode, set to random values between 0 and 2pi\n",
    "    y0 = np.concatenate([d0,A0,phi0]) # create 1D array from above 3 arrays in format ODE solver expects\n",
    "\n",
    "    def raserOdeSystem(t, y):\n",
    "        d = y[0:N]\n",
    "        A = y[N:2 * N]\n",
    "        phi = y[2 * N:3 * N]\n",
    "\n",
    "        X = np.sum(A * np.cos(phi))\n",
    "        Y = np.sum(A * np.sin(phi))\n",
    "        cosPhi = np.cos(phi)\n",
    "        sinPhi = np.cos(phi)\n",
    "        sumTerm1 = (X * cosPhi) + (Y * sinPhi)\n",
    "        sumTerm2 = (Y * cosPhi) - (X * sinPhi)\n"
   ]
  },
  {
   "cell_type": "markdown",
   "source": [
    "## Test Functions\n",
    "Comment/uncomment out functions to test they are working."
   ],
   "metadata": {
    "id": "1jYe9RO269mA"
   }
  },
  {
   "cell_type": "code",
   "source": [
    "# Sample Inversion map\n",
    "createSampleInversionMap()"
   ],
   "metadata": {
    "id": "xVIfCrFG68or",
    "ExecuteTime": {
     "end_time": "2025-07-18T19:37:32.526747Z",
     "start_time": "2025-07-18T19:37:32.521916Z"
    }
   },
   "outputs": [
    {
     "data": {
      "text/plain": [
       "array([[0, 0, 0, 0, 0, 0, 0, 0, 0],\n",
       "       [0, 0, 0, 0, 0, 0, 0, 0, 0],\n",
       "       [0, 0, 1, 1, 1, 1, 1, 0, 0],\n",
       "       [0, 0, 1, 1, 1, 1, 1, 0, 0],\n",
       "       [0, 0, 1, 1, 1, 1, 1, 0, 0],\n",
       "       [0, 0, 1, 1, 1, 1, 1, 0, 0],\n",
       "       [0, 0, 1, 1, 1, 1, 1, 0, 0],\n",
       "       [0, 0, 0, 0, 0, 0, 0, 0, 0],\n",
       "       [0, 0, 0, 0, 0, 0, 0, 0, 0]])"
      ]
     },
     "execution_count": 4,
     "metadata": {},
     "output_type": "execute_result"
    }
   ],
   "execution_count": 4
  }
 ]
}
